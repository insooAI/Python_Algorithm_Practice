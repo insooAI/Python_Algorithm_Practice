{
 "cells": [
  {
   "cell_type": "markdown",
   "metadata": {},
   "source": [
    "# 1"
   ]
  },
  {
   "cell_type": "code",
   "execution_count": 1,
   "metadata": {
    "ExecuteTime": {
     "end_time": "2022-02-08T16:38:22.431313Z",
     "start_time": "2022-02-08T16:38:15.284274Z"
    }
   },
   "outputs": [
    {
     "name": "stdout",
     "output_type": "stream",
     "text": [
      "(A(BC)D)EF(G(H)(IJ)K)LM(N)\n",
      "EFLM\n"
     ]
    }
   ],
   "source": [
    "# 메커니즘 :\n",
    "# )를 만나기전엔 append하다가 )를 만나면 (가 나오기 전까지 pop\n",
    "\n",
    "string = input()\n",
    "\n",
    "stack = []\n",
    "\n",
    "for i in string:    \n",
    "    if i == ')':\n",
    "        while stack.pop() != '(':  # pop 한것이 '('이면 빠져나감\n",
    "   \n",
    "            continue # pass 똑같네\n",
    "            \n",
    "\n",
    "    else:\n",
    "        stack.append(i)\n",
    "\n",
    "            \n",
    "\n",
    "print(''.join(stack))           "
   ]
  },
  {
   "cell_type": "markdown",
   "metadata": {},
   "source": [
    "# 2 \n",
    "- g0en2Ts8eSoft"
   ]
  },
  {
   "cell_type": "code",
   "execution_count": 187,
   "metadata": {
    "ExecuteTime": {
     "end_time": "2022-02-08T08:31:39.817099Z",
     "start_time": "2022-02-08T08:31:33.786625Z"
    }
   },
   "outputs": [
    {
     "name": "stdout",
     "output_type": "stream",
     "text": [
      "g0en2Ts8eSoft\n",
      "28\n",
      "6\n"
     ]
    }
   ],
   "source": [
    "import re\n",
    "\n",
    "string2 = input()\n",
    "num = int(''.join(re.findall('[0-9]+',string2)))\n",
    "\n",
    "count = 0\n",
    "for i in range(1,num+1):\n",
    "    if num % i == 0:\n",
    "        count += 1\n",
    "        \n",
    "print(num)\n",
    "print(count)"
   ]
  },
  {
   "cell_type": "markdown",
   "metadata": {},
   "source": [
    "# 3"
   ]
  },
  {
   "cell_type": "code",
   "execution_count": 181,
   "metadata": {
    "ExecuteTime": {
     "end_time": "2022-02-08T08:28:52.632367Z",
     "start_time": "2022-02-08T08:28:44.972403Z"
    }
   },
   "outputs": [
    {
     "name": "stdout",
     "output_type": "stream",
     "text": [
      "4 6\n",
      "0 1\n",
      "0 3\n",
      "1 2\n",
      "2 0\n",
      "2 3\n",
      "3 0\n",
      "2\n",
      "1 0 2 1 "
     ]
    }
   ],
   "source": [
    "n,m = map(int, input().split())\n",
    "value = [i for _ in range(m) for i in input().split()]\n",
    "odd = value[0::2]\n",
    "even = value[1::2]\n",
    "k = int(input())\n",
    "s = []\n",
    "\n",
    "for i in even:\n",
    "    if even.count(i) >= k and i not in s:\n",
    "        s.append(i)\n",
    "        \n",
    "new_list = list(zip(even,odd))\n",
    "result = []\n",
    "\n",
    "for i,v in new_list:\n",
    "    if i in s:\n",
    "        result.append(v)\n",
    "    \n",
    "\n",
    "for i in range(n):\n",
    "    print(result.count(str(i)), end=' ')"
   ]
  }
 ],
 "metadata": {
  "kernelspec": {
   "display_name": "machinelearning",
   "language": "python",
   "name": "machinelearning"
  },
  "language_info": {
   "codemirror_mode": {
    "name": "ipython",
    "version": 3
   },
   "file_extension": ".py",
   "mimetype": "text/x-python",
   "name": "python",
   "nbconvert_exporter": "python",
   "pygments_lexer": "ipython3",
   "version": "3.7.7"
  },
  "toc": {
   "base_numbering": 1,
   "nav_menu": {},
   "number_sections": true,
   "sideBar": true,
   "skip_h1_title": false,
   "title_cell": "Table of Contents",
   "title_sidebar": "Contents",
   "toc_cell": false,
   "toc_position": {},
   "toc_section_display": true,
   "toc_window_display": false
  }
 },
 "nbformat": 4,
 "nbformat_minor": 4
}
