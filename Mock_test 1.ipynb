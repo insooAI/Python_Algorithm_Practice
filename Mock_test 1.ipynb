{
 "cells": [
  {
   "cell_type": "markdown",
   "metadata": {},
   "source": [
    "# 1\n",
    "- 입력된 문자열에서 소괄호 ( ) 사이에 존재하는 모든 문자를 제거하고 남은 문자만 출력하는 프로그램을 작성하세요."
   ]
  },
  {
   "cell_type": "code",
   "execution_count": 1,
   "metadata": {
    "ExecuteTime": {
     "end_time": "2022-02-08T16:38:22.431313Z",
     "start_time": "2022-02-08T16:38:15.284274Z"
    }
   },
   "outputs": [
    {
     "name": "stdout",
     "output_type": "stream",
     "text": [
      "(A(BC)D)EF(G(H)(IJ)K)LM(N)\n",
      "EFLM\n"
     ]
    }
   ],
   "source": [
    "# 메커니즘 :\n",
    "# )를 만나기전엔 append하다가 )를 만나면 (가 나오기 전까지 pop\n",
    "\n",
    "string = input()\n",
    "\n",
    "stack = []\n",
    "\n",
    "for i in string:    \n",
    "    if i == ')':\n",
    "        while stack.pop() != '(':  # pop 한것이 '('이면 빠져나감\n",
    "   \n",
    "            continue \n",
    "            \n",
    "\n",
    "    else:\n",
    "        stack.append(i)\n",
    "\n",
    "            \n",
    "\n",
    "print(''.join(stack))           "
   ]
  },
  {
   "cell_type": "markdown",
   "metadata": {},
   "source": [
    "# 2 \n",
    "- 문자와 숫자가 섞여있는 문자열이 주어지면 그 중 숫자만 추출하여 그 순서대로 자연수를 만듭니다.  \n",
    "만들어진 자연수와 그 자연수의 약수 개수를 출력합니다.첫 자리 0은 무시합니다."
   ]
  },
  {
   "cell_type": "code",
   "execution_count": 187,
   "metadata": {
    "ExecuteTime": {
     "end_time": "2022-02-08T08:31:39.817099Z",
     "start_time": "2022-02-08T08:31:33.786625Z"
    }
   },
   "outputs": [
    {
     "name": "stdout",
     "output_type": "stream",
     "text": [
      "g0en2Ts8eSoft\n",
      "28\n",
      "6\n"
     ]
    }
   ],
   "source": [
    "import re\n",
    "\n",
    "string2 = input()\n",
    "num = int(''.join(re.findall('[0-9]+',string2)))\n",
    "\n",
    "count = 0\n",
    "for i in range(1,num+1):\n",
    "    if num % i == 0:\n",
    "        count += 1\n",
    "        \n",
    "print(num)\n",
    "print(count)"
   ]
  },
  {
   "cell_type": "markdown",
   "metadata": {},
   "source": [
    "# 3\n",
    "- 인수네 반 N명의 학생은 각자 자기가 좋아하는 학생을 회장후보로 추천합니다.  \n",
    "한 학생이 여러명을 추천할 수 있습니다.  \n",
    "추천횟수가 k번 이상인 학생들만 회장선거에 출마할 수 있습니다.  \n",
    "회장선거에 출마한 학생들은 자기를 추천해준 학생들에게 감사의 이메일을 보내기로 했습니다.  \n",
    "0번 학생부터 N-1번 학생까지 각 학생이 감사이메일을 받는 횟수를 알아내는 프로그램을 작성하세요.  \n",
    "만약 0번 학생이 3번학생을 추천 했다면 [0, 3]의 순써쌍 입력정보가 들어옵니다.  \n",
    "만약 반 학생이 4명이고, 각 학생의 추천정보가 [0, 1], [0, 3], [1, 2], [2, 0], [2, 3], [3, 0]이고,  \n",
    "k=2이면 회장후보는 0번과 3번입니다.  \n",
    "그리고 각 학생이 받는 감사이메일 횟수는 0번은 1통, 1번은 0통, 2번은 2통, 3번은 1통입니다.  \n",
    "각 학생이 받는 감사메일 횟수를 0번 학생부터 차례대로 출력합니다."
   ]
  },
  {
   "cell_type": "code",
   "execution_count": 181,
   "metadata": {
    "ExecuteTime": {
     "end_time": "2022-02-08T08:28:52.632367Z",
     "start_time": "2022-02-08T08:28:44.972403Z"
    }
   },
   "outputs": [
    {
     "name": "stdout",
     "output_type": "stream",
     "text": [
      "4 6\n",
      "0 1\n",
      "0 3\n",
      "1 2\n",
      "2 0\n",
      "2 3\n",
      "3 0\n",
      "2\n",
      "1 0 2 1 "
     ]
    }
   ],
   "source": [
    "n,m = map(int, input().split())\n",
    "value = [i for _ in range(m) for i in input().split()]\n",
    "odd = value[0::2]\n",
    "even = value[1::2]\n",
    "k = int(input())\n",
    "s = []\n",
    "\n",
    "for i in even:\n",
    "    if even.count(i) >= k and i not in s:\n",
    "        s.append(i)\n",
    "        \n",
    "new_list = list(zip(even,odd))\n",
    "result = []\n",
    "\n",
    "for i,v in new_list:\n",
    "    if i in s:\n",
    "        result.append(v)\n",
    "    \n",
    "\n",
    "for i in range(n):\n",
    "    print(result.count(str(i)), end=' ')"
   ]
  }
 ],
 "metadata": {
  "kernelspec": {
   "display_name": "machinelearning",
   "language": "python",
   "name": "machinelearning"
  },
  "language_info": {
   "codemirror_mode": {
    "name": "ipython",
    "version": 3
   },
   "file_extension": ".py",
   "mimetype": "text/x-python",
   "name": "python",
   "nbconvert_exporter": "python",
   "pygments_lexer": "ipython3",
   "version": "3.7.7"
  },
  "toc": {
   "base_numbering": 1,
   "nav_menu": {},
   "number_sections": true,
   "sideBar": true,
   "skip_h1_title": false,
   "title_cell": "Table of Contents",
   "title_sidebar": "Contents",
   "toc_cell": false,
   "toc_position": {},
   "toc_section_display": true,
   "toc_window_display": false
  }
 },
 "nbformat": 4,
 "nbformat_minor": 4
}
